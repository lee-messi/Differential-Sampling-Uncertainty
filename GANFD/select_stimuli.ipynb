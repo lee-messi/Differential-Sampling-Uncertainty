{
 "cells": [
  {
   "cell_type": "code",
   "execution_count": 1,
   "metadata": {},
   "outputs": [],
   "source": [
    "import pandas as pd\n",
    "import random, os, shutil"
   ]
  },
  {
   "cell_type": "code",
   "execution_count": 2,
   "metadata": {},
   "outputs": [],
   "source": [
    "ganfd = pd.read_csv('GANFD_Data_V1.csv')\n",
    "men_df = ganfd[(ganfd['gender_fem'] < 0.10)]\n",
    "women_df = ganfd[(ganfd['gender_fem'] > 0.90)]"
   ]
  },
  {
   "cell_type": "code",
   "execution_count": 3,
   "metadata": {},
   "outputs": [],
   "source": [
    "# Function to filter and select rows\n",
    "def filter_and_select_rows(df):\n",
    "    # List to collect selected rows\n",
    "    filtered_groups = []\n",
    "    \n",
    "    # Group by 'set'\n",
    "    grouped = df.groupby('set')\n",
    "    \n",
    "    for set_value, group in grouped:\n",
    "        # Filter rows for each race_guess\n",
    "        black_rows = group[group['race_guess'] == 'Black']\n",
    "        white_rows = group[group['race_guess'] == 'White']\n",
    "        \n",
    "        # Check if both groups are non-empty\n",
    "        if not black_rows.empty and not white_rows.empty:\n",
    "            # Get the row with the highest 'race_ba' for 'Black'\n",
    "            black_row = black_rows.loc[black_rows['race_ba'].idxmax()]\n",
    "            # Get the row with the lowest 'race_ba' for 'White'\n",
    "            white_row = white_rows.loc[white_rows['race_ba'].idxmin()]\n",
    "            \n",
    "            # Append selected rows\n",
    "            filtered_groups.append(black_row)\n",
    "            filtered_groups.append(white_row)\n",
    "    \n",
    "    # Combine all selected rows into a new DataFrame\n",
    "    filtered_df = pd.DataFrame(filtered_groups).reset_index(drop=True)\n",
    "    return filtered_df\n",
    "\n",
    "# Apply the function\n",
    "men_filtered_df = filter_and_select_rows(men_df)\n",
    "men_filtered_df['gender'] = 'Men'\n",
    "women_filtered_df = filter_and_select_rows(women_df)\n",
    "women_filtered_df['gender'] = 'Women'\n",
    "\n",
    "# Ensure we have an even split of rows if more than required\n",
    "final_df = pd.concat([\n",
    "    men_filtered_df[men_filtered_df['race_guess'] == 'Black'].head(15),\n",
    "    men_filtered_df[men_filtered_df['race_guess'] == 'White'].head(15),\n",
    "    women_filtered_df[women_filtered_df['race_guess'] == 'Black'].head(15),\n",
    "    women_filtered_df[women_filtered_df['race_guess'] == 'White'].head(15)\n",
    "]).reset_index(drop=True)"
   ]
  },
  {
   "cell_type": "code",
   "execution_count": 4,
   "metadata": {},
   "outputs": [],
   "source": [
    "# Source folder\n",
    "source_folder = 'GANFD - Cropped Grey Backgrounds'\n",
    "\n",
    "# Destination folders\n",
    "dest_folders = {\n",
    "    'Images': final_df['full_ID'].to_list()\n",
    "}\n",
    "\n",
    "# Create destination folders if they don't exist\n",
    "for folder in dest_folders.keys():\n",
    "    os.makedirs(folder, exist_ok=True)\n",
    "\n",
    "# Iterate through the files in the source folder\n",
    "for filename in os.listdir(source_folder):\n",
    "    if filename.endswith('.jpg'):  # Only process .jpg files\n",
    "        file_id = os.path.splitext(filename)[0]  # Extract the ID (without .jpg)\n",
    "        \n",
    "        # Check which group the file belongs to and copy it\n",
    "        for dest_folder, id_list in dest_folders.items():\n",
    "            if file_id in id_list:\n",
    "                source_path = os.path.join(source_folder, filename)\n",
    "                dest_path = os.path.join(dest_folder, filename)\n",
    "                shutil.copy(source_path, dest_path)\n",
    "                break  # Move to the next file once copied"
   ]
  },
  {
   "cell_type": "code",
   "execution_count": 5,
   "metadata": {},
   "outputs": [],
   "source": [
    "final_df.to_csv('image_lookup.csv', index=False)"
   ]
  }
 ],
 "metadata": {
  "kernelspec": {
   "display_name": "base",
   "language": "python",
   "name": "python3"
  },
  "language_info": {
   "codemirror_mode": {
    "name": "ipython",
    "version": 3
   },
   "file_extension": ".py",
   "mimetype": "text/x-python",
   "name": "python",
   "nbconvert_exporter": "python",
   "pygments_lexer": "ipython3",
   "version": "3.11.7"
  }
 },
 "nbformat": 4,
 "nbformat_minor": 2
}
