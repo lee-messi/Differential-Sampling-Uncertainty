{
 "cells": [
  {
   "cell_type": "code",
   "execution_count": 1,
   "metadata": {},
   "outputs": [
    {
     "name": "stderr",
     "output_type": "stream",
     "text": [
      "/Users/a1048596/anaconda3/envs/multi/lib/python3.11/site-packages/tqdm/auto.py:21: TqdmWarning: IProgress not found. Please update jupyter and ipywidgets. See https://ipywidgets.readthedocs.io/en/stable/user_install.html\n",
      "  from .autonotebook import tqdm as notebook_tqdm\n"
     ]
    }
   ],
   "source": [
    "import os\n",
    "import numpy as np\n",
    "import pandas as pd\n",
    "from scipy import stats\n",
    "from sklearn.metrics.pairwise import cosine_similarity\n",
    "from sentence_transformers import SentenceTransformer, util"
   ]
  },
  {
   "cell_type": "code",
   "execution_count": 2,
   "metadata": {},
   "outputs": [],
   "source": [
    "current_directory = os.getcwd()"
   ]
  },
  {
   "cell_type": "code",
   "execution_count": 3,
   "metadata": {},
   "outputs": [],
   "source": [
    "data = pd.read_csv(os.path.join(current_directory, '../gpt4omini.csv'))\n",
    "collapsed_df = data.groupby('text', as_index=False).agg({'image': 'first', 'iter': 'first'})\n",
    "ganfd = pd.read_csv(os.path.join(current_directory, '../../GANFD/image_lookup.csv'))\n",
    "ganfd.rename(columns={'race_guess': 'race'}, inplace=True)"
   ]
  },
  {
   "cell_type": "code",
   "execution_count": 4,
   "metadata": {},
   "outputs": [],
   "source": [
    "merged_df = collapsed_df.merge(\n",
    "    ganfd[['full_ID', 'race', 'gender']],  # Select only the necessary columns\n",
    "    how='left',  # Use 'left' to keep all rows from collapsed_df\n",
    "    left_on='image',  # Column in collapsed_df to merge on\n",
    "    right_on='full_ID'  # Column in image_lookup to merge on\n",
    ")\n",
    "\n",
    "# Drop the full_ID column from the result if not needed\n",
    "merged_df = merged_df.drop(columns=['full_ID'])"
   ]
  },
  {
   "cell_type": "code",
   "execution_count": 5,
   "metadata": {},
   "outputs": [],
   "source": [
    "study_1 = merged_df.to_dict()"
   ]
  },
  {
   "cell_type": "markdown",
   "metadata": {},
   "source": [
    "## Define Functions"
   ]
  },
  {
   "cell_type": "code",
   "execution_count": 6,
   "metadata": {},
   "outputs": [],
   "source": [
    "def cosines_by_image(model_name, data_dict):\n",
    "\n",
    "    model = SentenceTransformer(model_name)\n",
    "    embeddings = model.encode(list(data_dict['text'].values()))\n",
    "    data_dict['embedding'] = embeddings\n",
    "     \n",
    "    # Initialize containers for results\n",
    "    cosine_sim_results = []\n",
    "\n",
    "    # Process embeddings by gender\n",
    "    genders = set(data_dict['gender'].values()) # Identify unique genders\n",
    "\n",
    "    for gender in genders:\n",
    "\n",
    "        # Initialize lists to hold gender-specific embeddings and images\n",
    "        gender_embeddings = []\n",
    "        gender_images = []\n",
    "\n",
    "        for i in range(len(data_dict['gender'])):\n",
    "            \n",
    "            if data_dict['gender'][i] == gender:\n",
    "                gender_embeddings.append(data_dict['embedding'][i])\n",
    "                gender_images.append(data_dict['image'][i])\n",
    "\n",
    "        # Now, calculate pairwise cosine similarity for the current gender\n",
    "        for i in range(len(gender_embeddings)):\n",
    "            for j in range(i + 1, len(gender_embeddings)):\n",
    "                # Calculate cosine similarity\n",
    "                sim = cosine_similarity([gender_embeddings[i]], [gender_embeddings[j]])[0][0]\n",
    "                \n",
    "                # Append result\n",
    "                cosine_sim_results.append({\n",
    "                    'gender': gender,\n",
    "                    'image_1': gender_images[i],\n",
    "                    'image_2': gender_images[j],\n",
    "                    'cosine_similarity': sim\n",
    "                })\n",
    "\n",
    "    results_df = pd.DataFrame(cosine_sim_results)\n",
    "    return(results_df)"
   ]
  },
  {
   "cell_type": "code",
   "execution_count": 7,
   "metadata": {},
   "outputs": [],
   "source": [
    "mpnetbase_df = cosines_by_image('sentence-transformers/all-mpnet-base-v2', study_1)\n",
    "mpnetbase_df.to_csv('mpnetbase_gender.csv', index = False)"
   ]
  }
 ],
 "metadata": {
  "kernelspec": {
   "display_name": "multi",
   "language": "python",
   "name": "python3"
  },
  "language_info": {
   "codemirror_mode": {
    "name": "ipython",
    "version": 3
   },
   "file_extension": ".py",
   "mimetype": "text/x-python",
   "name": "python",
   "nbconvert_exporter": "python",
   "pygments_lexer": "ipython3",
   "version": "3.11.11"
  },
  "orig_nbformat": 4
 },
 "nbformat": 4,
 "nbformat_minor": 2
}
