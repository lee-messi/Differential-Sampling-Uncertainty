{
 "cells": [
  {
   "cell_type": "code",
   "execution_count": 1,
   "metadata": {},
   "outputs": [],
   "source": [
    "import os, re, sys, math, base64\n",
    "from openai import OpenAI\n",
    "from tqdm import tqdm\n",
    "import pandas as pd\n",
    "import numpy as np"
   ]
  },
  {
   "cell_type": "code",
   "execution_count": 2,
   "metadata": {},
   "outputs": [],
   "source": [
    "current_directory = os.getcwd()"
   ]
  },
  {
   "cell_type": "code",
   "execution_count": 3,
   "metadata": {},
   "outputs": [],
   "source": [
    "data = pd.read_csv('llama.csv')\n",
    "data.rename(columns={'image_id': 'image'}, inplace=True)\n",
    "data.rename(columns={'simulation': 'iter'}, inplace=True)"
   ]
  },
  {
   "cell_type": "markdown",
   "metadata": {},
   "source": [
    "## Define Measures"
   ]
  },
  {
   "cell_type": "code",
   "execution_count": 4,
   "metadata": {},
   "outputs": [],
   "source": [
    "def calculate_pd(probs): \n",
    "    prob_diff = 1 - sum(x**2 for x in probs)\n",
    "    return prob_diff\n",
    "\n",
    "def calculate_entropy(probs):\n",
    "    return -np.sum(probs * np.log(probs))\n",
    "\n",
    "def calculate_perplexity(probs):\n",
    "    ent = calculate_entropy(probs)\n",
    "    perplexity = 2 ** ent\n",
    "    return perplexity"
   ]
  },
  {
   "cell_type": "code",
   "execution_count": 5,
   "metadata": {},
   "outputs": [],
   "source": [
    "# Explode the DataFrame based on 'top_20_probs'\n",
    "def explode_and_calculate_measures(row):\n",
    "    nested_probs = eval(row)  # Convert the string to list of tuples\n",
    "    exploded_rows = []\n",
    "    for position, inner_list in enumerate(nested_probs, start=1):\n",
    "        if position > 50:  # Skip positions greater than 50\n",
    "            break\n",
    "        log_probs = [item[1] for item in inner_list]\n",
    "        probs = np.exp(log_probs - np.max(log_probs))  # Normalize for numerical stability\n",
    "        probs /= np.sum(probs)  # Ensure probabilities sum to 1\n",
    "        \n",
    "        # Calculate measures\n",
    "        entropy = calculate_entropy(probs)\n",
    "        perplexity = calculate_perplexity(probs)\n",
    "        pd = calculate_pd(probs)\n",
    "        \n",
    "        exploded_rows.append({\n",
    "            'position': position,\n",
    "            'entropy': entropy,\n",
    "            'perplexity': perplexity,\n",
    "            'probability_of_differentiation': pd\n",
    "        })\n",
    "    return exploded_rows"
   ]
  },
  {
   "cell_type": "code",
   "execution_count": 6,
   "metadata": {},
   "outputs": [],
   "source": [
    "# Explode each row into multiple rows with measures\n",
    "exploded_data = []\n",
    "for idx, row in data.iterrows():\n",
    "    exploded_rows = explode_and_calculate_measures(row['top_20_probs'])\n",
    "    for exploded_row in exploded_rows:\n",
    "        exploded_data.append({\n",
    "            'image': row['image'],\n",
    "            'iter': row['iter'],\n",
    "            'position': exploded_row['position'],\n",
    "            'entropy': exploded_row['entropy'],\n",
    "            'perplexity': exploded_row['perplexity'],\n",
    "            'pd': exploded_row['probability_of_differentiation']\n",
    "        })\n",
    "\n",
    "# Create a new DataFrame\n",
    "exploded_df = pd.DataFrame(exploded_data)"
   ]
  },
  {
   "cell_type": "code",
   "execution_count": 7,
   "metadata": {},
   "outputs": [],
   "source": [
    "os.chdir(current_directory)\n",
    "exploded_df.to_csv('llama_probs.csv', index = False)"
   ]
  }
 ],
 "metadata": {
  "kernelspec": {
   "display_name": "multi",
   "language": "python",
   "name": "python3"
  },
  "language_info": {
   "codemirror_mode": {
    "name": "ipython",
    "version": 3
   },
   "file_extension": ".py",
   "mimetype": "text/x-python",
   "name": "python",
   "nbconvert_exporter": "python",
   "pygments_lexer": "ipython3",
   "version": "3.11.11"
  }
 },
 "nbformat": 4,
 "nbformat_minor": 2
}
